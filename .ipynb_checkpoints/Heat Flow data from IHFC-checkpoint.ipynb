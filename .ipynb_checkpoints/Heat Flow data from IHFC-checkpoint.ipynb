{
 "cells": [
  {
   "cell_type": "markdown",
   "metadata": {},
   "source": [
    "## USA Heat Flow data from IHFC Global Heat Flow Database\n",
    "\n",
    "#### ..... in progress\n",
    "\n",
    "##### data downloded from https://www.ihfc-iugg.org/viewer/"
   ]
  },
  {
   "cell_type": "code",
   "execution_count": 4,
   "metadata": {},
   "outputs": [],
   "source": [
    "import xml.etree.ElementTree as et \n",
    "xtree = et.parse(\"./data/input/usa.xml\")\n",
    "xroot = xtree.getroot()"
   ]
  },
  {
   "cell_type": "code",
   "execution_count": 6,
   "metadata": {},
   "outputs": [
    {
     "data": {
      "text/plain": [
       "<Element '{urn:schemas-microsoft-com:office:spreadsheet}Workbook' at 0x10ef7aad0>"
      ]
     },
     "execution_count": 6,
     "metadata": {},
     "output_type": "execute_result"
    }
   ],
   "source": [
    "xroot"
   ]
  },
  {
   "cell_type": "code",
   "execution_count": 8,
   "metadata": {},
   "outputs": [
    {
     "data": {
      "text/plain": [
       "'{urn:schemas-microsoft-com:office:spreadsheet}Workbook'"
      ]
     },
     "execution_count": 8,
     "metadata": {},
     "output_type": "execute_result"
    }
   ],
   "source": [
    "xroot.tag"
   ]
  },
  {
   "cell_type": "code",
   "execution_count": 9,
   "metadata": {},
   "outputs": [
    {
     "name": "stdout",
     "output_type": "stream",
     "text": [
      "{urn:schemas-microsoft-com:office:office}DocumentProperties {}\n",
      "{urn:schemas-microsoft-com:office:office}OfficeDocumentSettings {}\n",
      "{urn:schemas-microsoft-com:office:excel}ExcelWorkbook {}\n",
      "{urn:schemas-microsoft-com:office:spreadsheet}Styles {}\n",
      "{urn:schemas-microsoft-com:office:spreadsheet}Worksheet {'{urn:schemas-microsoft-com:office:spreadsheet}Name': 'usa'}\n"
     ]
    }
   ],
   "source": [
    "for child in xroot:\n",
    "    print(child.tag, child.attrib)"
   ]
  },
  {
   "cell_type": "code",
   "execution_count": 11,
   "metadata": {},
   "outputs": [],
   "source": [
    "for neighbor in xroot.iter('neighbor'):\n",
    "    print(neighbor.attrib)"
   ]
  },
  {
   "cell_type": "code",
   "execution_count": null,
   "metadata": {},
   "outputs": [],
   "source": [
    "df_cols = ['Codes','Site Name','Latitude','Longitude','Elevation',\n",
    "           'Min. Depth','Max Depth','No. Temperatures','Temp. Gradient',\n",
    "            'No. Conductivities','Conductivity','No. Heat Production',\n",
    "           'Heat Production', 'Heat Flow','No. Sites','Reference No.','Year of Publication','Comments']\n",
    "\n",
    "rows = []"
   ]
  },
  {
   "cell_type": "markdown",
   "metadata": {},
   "source": [
    "df_cols = [\"name\", \"email\", \"grade\", \"age\"]\n",
    "rows = []\n",
    "\n",
    "for node in xroot: \n",
    "    s_name = node.attrib.get(\"name\")\n",
    "    s_mail = node.find(\"email\").text if node is not None else None\n",
    "    s_grade = node.find(\"grade\").text if node is not None else None\n",
    "    s_age = node.find(\"age\").text if node is not None else None\n",
    "    \n",
    "    rows.append({\"name\": s_name, \"email\": s_mail, \n",
    "                 \"grade\": s_grade, \"age\": s_age})\n",
    "\n",
    "out_df = pd.DataFrame(rows, columns = df_cols)"
   ]
  }
 ],
 "metadata": {
  "kernelspec": {
   "display_name": "Python 3",
   "language": "python",
   "name": "python3"
  },
  "language_info": {
   "codemirror_mode": {
    "name": "ipython",
    "version": 3
   },
   "file_extension": ".py",
   "mimetype": "text/x-python",
   "name": "python",
   "nbconvert_exporter": "python",
   "pygments_lexer": "ipython3",
   "version": "3.7.6"
  }
 },
 "nbformat": 4,
 "nbformat_minor": 4
}
